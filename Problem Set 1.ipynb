{
 "cells": [
  {
   "cell_type": "markdown",
   "id": "c5ebdab7",
   "metadata": {},
   "source": [
    "# Question 1  C#"
   ]
  },
  {
   "cell_type": "code",
   "execution_count": null,
   "id": "d2898306",
   "metadata": {},
   "outputs": [],
   "source": [
    "5 - integer\n",
    "5.0 - float\n",
    "5>1 - boolean\n",
    "'5'- character\n",
    "5*2 - integer\n",
    "'5' * 2 - Character\n",
    "'5' + '2' - Character\n",
    "5/2 - float\n",
    "5%2 - integer\n",
    "{5, 2, 1} - integer\n",
    "5 == 3 - boolean\n",
    "Pi (the number) - double"
   ]
  },
  {
   "cell_type": "markdown",
   "id": "419f87be",
   "metadata": {},
   "source": [
    "# Question 2 C#"
   ]
  },
  {
   "cell_type": "code",
   "execution_count": 1,
   "id": "7f587b71",
   "metadata": {},
   "outputs": [
    {
     "ename": "SyntaxError",
     "evalue": "invalid syntax (767649847.py, line 3)",
     "output_type": "error",
     "traceback": [
      "\u001b[0;36m  Cell \u001b[0;32mIn[1], line 3\u001b[0;36m\u001b[0m\n\u001b[0;31m    string word = \"Supercalifragilisticexpialidocious\";\u001b[0m\n\u001b[0m           ^\u001b[0m\n\u001b[0;31mSyntaxError\u001b[0m\u001b[0;31m:\u001b[0m invalid syntax\n"
     ]
    }
   ],
   "source": [
    "#a. How many letters are there in 'Supercalifragilisticexpialidocious'?\n",
    "\n",
    "string given = \"Supercalifragilisticexpialidocious\";\n",
    "int CountLetter = given.Count(char.IsLetter);\n",
    "\n",
    "Console.WriteLine($\"The word has {CountLetter} letters\");\n",
    "\n",
    "#b. Does 'Supercalifragilisticexpialidocious' contain 'ice' as a substring?\n",
    "\n",
    "string given = \"Supercalifragilisticexpialidocious\";\n",
    "string wordFind = \"ice\";\n",
    "\n",
    "bool isPresent = given.Contains(wordFind);\n",
    "\n",
    "if (isPresent)\n",
    "{\n",
    "    Console.WriteLine($\"'{given}' contains the word '{wordFind}'.\");\n",
    "}\n",
    "else\n",
    "{\n",
    "    Console.WriteLine($\"'{given}' does not contain the word '{wordFind}'.\");\n",
    "}\n",
    "\n",
    "#c. Which of the following words is the longest: Supercalifragilisticexpialidocious, Honorificabilitudinitatibus, or Bababadalgharaghtakamminarronnkonn?\n",
    "\n",
    "string[] words = {\n",
    "    \"Supercalifragilisticexpialidocious\",\n",
    "    \"Honorificabilitudinitatibus\",\n",
    "    \"Bababadalgharaghtakamminarronnkonn\"\n",
    "};\n",
    "\n",
    "string longestWord = words[0];\n",
    "\n",
    "foreach (string word in words)\n",
    "{\n",
    "    if (word.Length > longestWord.Length)\n",
    "    {\n",
    "        longestWord = word;\n",
    "    }\n",
    "}\n",
    "\n",
    "Console.WriteLine($\"The longest word is: {longestWord}\");\n",
    "\n",
    "#d. Which composer comes first in the dictionary: 'Berlioz', 'Borodin', 'Brian', 'Bartok', 'Bellini', 'Buxtehude', 'Bernstein'. Which one comes last?\n",
    "\n",
    "\n",
    "string[] composers = { \"Berlioz\", \"Borodin\", \"Brian\", \"Bartok\", \"Bellini\", \"Buxtehude\", \"Bernstein\" };\n",
    "\n",
    "string firstComposer = composers[0];\n",
    "string lastComposer = composers[0];\n",
    "\n",
    "foreach (string composer in composers)\n",
    "{\n",
    "    if (string.Compare(composer, firstComposer) < 0)\n",
    "    {\n",
    "        firstComposer = composer;\n",
    "    }\n",
    "    if (string.Compare(composer, lastComposer) > 0)\n",
    "    {\n",
    "        lastComposer = composer;\n",
    "    }\n",
    "}\n",
    "\n",
    "Console.WriteLine($\"The first composer in the dictionary is: {firstComposer}\");\n",
    "Console.WriteLine($\"The last composer in the dictionary is: {lastComposer}\");"
   ]
  },
  {
   "cell_type": "markdown",
   "id": "bd3fac5c",
   "metadata": {},
   "source": [
    "# Question 3 C#"
   ]
  },
  {
   "cell_type": "code",
   "execution_count": null,
   "id": "6fe2053c",
   "metadata": {},
   "outputs": [],
   "source": [
    "using System;\n",
    "\n",
    "class Program\n",
    "{\n",
    "    static double TriangleArea(double a, double b, double c)\n",
    "    {\n",
    "        // Calculate the semi-perimeter 's'\n",
    "        double s = (a + b + c) / 2;\n",
    "\n",
    "        // Calculate the area using Heron's formula\n",
    "        double area = Math.Sqrt(s * (s - a) * (s - b) * (s - c));\n",
    "\n",
    "        return area;\n",
    "    }\n",
    "\n",
    "    static void Main()\n",
    "    {\n",
    "        double a = 5;\n",
    "        double b = 6;\n",
    "        double c = 7;\n",
    "\n",
    "        double area = TriangleArea(a, b, c);\n",
    "\n",
    "        Console.WriteLine($\"The area of the triangle is: {area}\");\n",
    "    }\n",
    "}"
   ]
  },
  {
   "cell_type": "markdown",
   "id": "4460ea10",
   "metadata": {},
   "source": [
    "# Question 4 C#"
   ]
  },
  {
   "cell_type": "code",
   "execution_count": null,
   "id": "ccc9e26f",
   "metadata": {},
   "outputs": [],
   "source": [
    "using System;\n",
    "\n",
    "class Program\n",
    "{\n",
    "    static void Main()\n",
    "    {\n",
    "        int[] numbers = { 10,20,22,23,24,25,26,32,45,76,81,44,57,84 }; \n",
    "\n",
    "        int[] evenNumbers = new int[numbers.Length]; // Array to store even numbers\n",
    "        int[] oddNumbers = new int[numbers.Length];  // Array to store odd numbers\n",
    "\n",
    "        int evenCount = 0; // Even numbers Counter\n",
    "        int oddCount = 0;  // Odd numbers Counter\n",
    "\n",
    "        \n",
    "        foreach (int number in numbers) // Separate the even and odd numbers\n",
    "        {\n",
    "            if (number % 2 == 0)\n",
    "            {\n",
    "                evenNumbers[evenCount] = number;\n",
    "                evenCount++;\n",
    "            }\n",
    "            else\n",
    "            {\n",
    "                oddNumbers[oddCount] = number;\n",
    "                oddCount++;\n",
    "            }\n",
    "        }\n",
    "\n",
    "        // Display the even and odd numbers arrays\n",
    "        Console.WriteLine(\"The Even Elements are:\");\n",
    "        foreach (int even in evenNumbers)\n",
    "        {\n",
    "            Console.Write(even + \" \");\n",
    "        }\n",
    "\n",
    "        Console.WriteLine(\"\\nThe Odd Elements are:\");\n",
    "        foreach (int odd in oddNumbers)\n",
    "        {\n",
    "            Console.Write(odd + \" \");\n",
    "        }\n",
    "    }\n",
    "}"
   ]
  },
  {
   "cell_type": "markdown",
   "id": "4408e7d6",
   "metadata": {},
   "source": [
    "# Question 5 C#"
   ]
  },
  {
   "cell_type": "code",
   "execution_count": null,
   "id": "a66cf92c",
   "metadata": {},
   "outputs": [],
   "source": [
    "#a \n",
    "\n",
    "#b -------------------\n",
    "using System;\n",
    "\n",
    "class Program\n",
    "{\n",
    "    static bool Inside(double x, double y, double x1, double y1, double x2, double y2)\n",
    "    {\n",
    "        return x >= Math.Min(x1, x2) && x <= Math.Max(x1, x2) &&\n",
    "               y >= Math.Min(y1, y2) && y <= Math.Max(y1, y2);\n",
    "    }\n",
    "static void Main()\n",
    "{\n",
    "    double x1 = 0.3;\n",
    "    double y1 = 0.5;\n",
    "    double x2 = 1.1;\n",
    "    double y2 = 0.7;\n",
    "\n",
    "    double x = 1;\n",
    "    double y = 1;\n",
    "\n",
    "    bool isInside = Inside(x, y, x1, y1, x2, y2);\n",
    "\n",
    "    if (isInside)\n",
    "    {\n",
    "        Console.WriteLine($\"({x}, {y}) is inside the rectangle.\");\n",
    "    }\n",
    "    else\n",
    "    {\n",
    "        Console.WriteLine($\"({x}, {y}) is outside the rectangle.\");\n",
    "    }\n",
    "}\n",
    "}\n",
    "\n",
    "#b ---------------\n",
    "using System;\n",
    "\n",
    "class Program\n",
    "{\n",
    "    static bool Inside(double x, double y, double x1, double y1, double x2, double y2)\n",
    "    {\n",
    "        return x >= Math.Min(x1, x2) && x <= Math.Max(x1, x2) &&\n",
    "               y >= Math.Min(y1, y2) && y <= Math.Max(y1, y2);\n",
    "    }\n",
    "static void Main()\n",
    "{\n",
    "    double x1 = 0.3;\n",
    "    double y1 = 0.5;\n",
    "    double x2 = 1.1;\n",
    "    double y2 = 0.7;\n",
    "\n",
    "    double x = 1;\n",
    "    double y = 1;\n",
    "\n",
    "    bool isInside = Inside(x, y, x1, y1, x2, y2);\n",
    "\n",
    "    if (isInside)\n",
    "    {\n",
    "        Console.WriteLine($\"({x}, {y}) is inside the rectangle.\");\n",
    "    }\n",
    "    else\n",
    "    {\n",
    "        Console.WriteLine($\"({x}, {y}) is outside the rectangle.\");\n",
    "    }\n",
    "}\n",
    "}"
   ]
  },
  {
   "cell_type": "markdown",
   "id": "53126c6d",
   "metadata": {},
   "source": [
    "# Question 6 Python"
   ]
  },
  {
   "cell_type": "code",
   "execution_count": 2,
   "id": "6660b9b8",
   "metadata": {},
   "outputs": [],
   "source": [
    "def pig(word):\n",
    "  \"\"\"Returns the pig-Latin form of the given word.\n",
    "\n",
    "  Args:\n",
    "    word: A string.\n",
    "\n",
    "  Returns:\n",
    "    A string.\n",
    "  \"\"\"\n",
    "\n",
    "  word = word.lower()\n",
    "\n",
    "  if word[0].lower() in 'aeiou':\n",
    "    return word + 'way'\n",
    "  else:\n",
    "    return word[1:] + word[0] + 'ay'"
   ]
  },
  {
   "cell_type": "code",
   "execution_count": 5,
   "id": "102e9363",
   "metadata": {},
   "outputs": [
    {
     "data": {
      "text/plain": [
       "'anadacay'"
      ]
     },
     "execution_count": 5,
     "metadata": {},
     "output_type": "execute_result"
    }
   ],
   "source": [
    "pig('mandy')\n",
    "pig('canada')"
   ]
  },
  {
   "cell_type": "markdown",
   "id": "dc6e02ea",
   "metadata": {},
   "source": [
    "# Question 7 Python"
   ]
  },
  {
   "cell_type": "code",
   "execution_count": 15,
   "id": "54d4a6ec",
   "metadata": {},
   "outputs": [
    {
     "name": "stdout",
     "output_type": "stream",
     "text": [
      "Blood Type Counts:\n",
      "A: 0 patients\n",
      "B: 0 patients\n",
      "AB: 0 patients\n",
      "O: 0 patients\n",
      "OO: 0 patients\n"
     ]
    }
   ],
   "source": [
    "def bldcount(filename):\n",
    "    blood_type_counts = {\n",
    "        \"A\": 0,\n",
    "        \"B\": 0,\n",
    "        \"AB\": 0,\n",
    "        \"O\": 0,\n",
    "        \"OO\": 0\n",
    "    }\n",
    "\n",
    "    try:\n",
    "        with open(filename, 'r') as file:\n",
    "            for line in file:\n",
    "                blood_type = line.strip()\n",
    "                if blood_type in blood_type_counts:\n",
    "                    blood_type_counts[blood_type] += 1\n",
    "\n",
    "        print(\"Blood Type Counts:\")\n",
    "        for blood_type, count in blood_type_counts.items():\n",
    "            print(f\"{blood_type}: {count} patients\")\n",
    "    except FileNotFoundError:\n",
    "        print(f\"File '{filename}' not found.\")\n",
    "    except Exception as e:\n",
    "        print(f\"An error occurred: {e}\")\n",
    "\n",
    "filename = \"bloodtype1.txt\" \n",
    "bldcount(filename)"
   ]
  },
  {
   "cell_type": "markdown",
   "id": "e2ee127f",
   "metadata": {},
   "source": [
    "# Question 8 Python"
   ]
  },
  {
   "cell_type": "code",
   "execution_count": 37,
   "id": "c8289648",
   "metadata": {},
   "outputs": [
    {
     "name": "stdout",
     "output_type": "stream",
     "text": [
      "225 AUD is equivalent to An error occurred: too many values to unpack (expected 2) USD\n"
     ]
    }
   ],
   "source": [
    "def curconv(currency, amount):\n",
    "    try:\n",
    "        \n",
    "        with open('currencies.txt', 'r') as file:\n",
    "            currency_rates = {}\n",
    "            for line in file:\n",
    "                code, rate = line.split()\n",
    "                currency_rates[code] = float(rate)\n",
    "\n",
    "        if currency in currency_rates: # Check if the specified currency is in the rates dictionary\n",
    "            usd_amount = amount * currency_rates[currency]\n",
    "            return usd_amount\n",
    "        else:\n",
    "            return f\"Currency code '{currency}' not found in the exchange rates.\"\n",
    "\n",
    "    except FileNotFoundError:\n",
    "        return \"Currency exchange rate file 'currencies.txt' not found.\"\n",
    "    except Exception as e:\n",
    "        return f\"An error occurred: {e}\"\n",
    "\n",
    "currency = 'AUD'\n",
    "amount = 225  # Replace with the amount you want to convert\n",
    "result = curconv(currency, amount)\n",
    "print(\"{} {} is equivalent to {} USD\".format(amount, currency, result))\n"
   ]
  },
  {
   "cell_type": "markdown",
   "id": "166cafe4",
   "metadata": {},
   "source": [
    "# Question 9 Python"
   ]
  },
  {
   "cell_type": "markdown",
   "id": "8ae9d43a",
   "metadata": {},
   "source": [
    "Q: Trying to add incompatible variables, as in adding 6 + ‘a’ \n",
    "Ans: TypeError\n",
    "    \n",
    "Q: Referring to the 12th item of a list that has only 10 items\n",
    "Ans: IndexError\n",
    "\n",
    "Q: Using a value that is out of range for a function’s input, such as calling math.sqrt(-1.0)\n",
    "Ans: ValueError\n",
    "\n",
    "Q: Using an undeclared variable, such as print(x) when x has not been defined\n",
    "Ans: NameError\n",
    "\n",
    "Q: Trying to open a file that does not exist, such as mistyping the file name or looking in the wrong directory.\n",
    "Ans: FileNotFoundError\n",
    "\n",
    "\n"
   ]
  },
  {
   "cell_type": "markdown",
   "id": "7365b7bc",
   "metadata": {},
   "source": [
    "# Question 10 Python"
   ]
  },
  {
   "cell_type": "code",
   "execution_count": 7,
   "id": "f0f44d9d",
   "metadata": {},
   "outputs": [
    {
     "name": "stdout",
     "output_type": "stream",
     "text": [
      "[7, 0, 2, 1, 6, 1, 1, 3, 3, 0, 1, 3, 1, 4, 1, 1, 0, 1, 4, 2, 0, 1, 0, 0, 0, 1]\n"
     ]
    }
   ],
   "source": [
    "def frequencies(word):\n",
    "    letter_counts = {}\n",
    "\n",
    "    for char in word:\n",
    "        if char.isalpha():  # Is the character a letter\n",
    "            char = char.lower()  # Convert the character to lowercase\n",
    "            if char in letter_counts:\n",
    "                letter_counts[char] += 1\n",
    "            else:\n",
    "                letter_counts[char] = 1\n",
    "\n",
    "    frequency_list = [letter_counts.get(chr(ord('a') + i), 0) for i in range(26)] # Convert the dictionary into a list of integers\n",
    "\n",
    "    return frequency_list\n",
    "\n",
    "word = \"meinetshaganhavarsaksisintheplacecalledzonef\"\n",
    "result = frequencies(word)\n",
    "print(result)"
   ]
  }
 ],
 "metadata": {
  "kernelspec": {
   "display_name": "Python 3 (ipykernel)",
   "language": "python",
   "name": "python3"
  },
  "language_info": {
   "codemirror_mode": {
    "name": "ipython",
    "version": 3
   },
   "file_extension": ".py",
   "mimetype": "text/x-python",
   "name": "python",
   "nbconvert_exporter": "python",
   "pygments_lexer": "ipython3",
   "version": "3.11.5"
  }
 },
 "nbformat": 4,
 "nbformat_minor": 5
}
